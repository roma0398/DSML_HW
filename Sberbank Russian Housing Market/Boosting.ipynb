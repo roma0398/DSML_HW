{
 "cells": [
  {
   "cell_type": "code",
   "execution_count": 1,
   "metadata": {},
   "outputs": [],
   "source": [
    "import warnings\n",
    "warnings.filterwarnings('always')\n",
    "warnings.filterwarnings('ignore')\n",
    "\n",
    "\n",
    "import sklearn\n",
    "import pandas as pd\n",
    "import numpy as np\n",
    "import seaborn as sns\n",
    "import matplotlib\n",
    "import matplotlib.pyplot as plt\n",
    "%matplotlib inline"
   ]
  },
  {
   "cell_type": "code",
   "execution_count": 2,
   "metadata": {},
   "outputs": [
    {
     "name": "stderr",
     "output_type": "stream",
     "text": [
      "d:\\programs\\python3.7\\lib\\site-packages\\sklearn\\ensemble\\weight_boosting.py:29: DeprecationWarning: numpy.core.umath_tests is an internal NumPy module and should not be imported. It will be removed in a future NumPy release.\n",
      "  from numpy.core.umath_tests import inner1d\n",
      "d:\\programs\\python3.7\\lib\\site-packages\\sklearn\\cross_validation.py:41: DeprecationWarning: This module was deprecated in version 0.18 in favor of the model_selection module into which all the refactored classes and functions are moved. Also note that the interface of the new CV iterators are different from that of this module. This module will be removed in 0.20.\n",
      "  \"This module will be removed in 0.20.\", DeprecationWarning)\n",
      "d:\\programs\\python3.7\\lib\\site-packages\\sklearn\\grid_search.py:42: DeprecationWarning: This module was deprecated in version 0.18 in favor of the model_selection module into which all the refactored classes and functions are moved. This module will be removed in 0.20.\n",
      "  DeprecationWarning)\n"
     ]
    }
   ],
   "source": [
    "from pandas.tools.plotting import scatter_matrix\n",
    "from sklearn.model_selection import train_test_split\n",
    "from sklearn.neighbors import KNeighborsClassifier\n",
    "from sklearn.svm import SVR\n",
    "from sklearn.svm import SVC\n",
    "from sklearn.linear_model import LinearRegression\n",
    "from sklearn import ensemble\n",
    "from sklearn.preprocessing import OneHotEncoder\n",
    "from sklearn import metrics\n",
    "from sklearn.metrics import confusion_matrix\n",
    "from sklearn.metrics import precision_recall_fscore_support\n",
    "from sklearn.metrics import classification_report\n",
    "from sklearn.metrics import mean_squared_error as mse\n",
    "from sklearn.metrics import mean_squared_log_error as msle\n",
    "from sklearn.metrics import r2_score\n",
    "from sklearn.model_selection import cross_val_score\n",
    "from sklearn.grid_search import GridSearchCV\n",
    "from sklearn.model_selection import GridSearchCV"
   ]
  },
  {
   "cell_type": "code",
   "execution_count": 3,
   "metadata": {},
   "outputs": [
    {
     "name": "stdout",
     "output_type": "stream",
     "text": [
      "(30471, 291)\n"
     ]
    }
   ],
   "source": [
    "data = pd.read_csv(\"data/train.csv\", na_values=['#!', 'no data', 'NA'], index_col='id')\n",
    "#X_test = pd.read_csv(\"data/test.csv\", na_values=['#!', 'no data', 'NA'])\n",
    "#macro = pd.read_csv(\"data/macro.csv\", na_values=['#!', 'no data', 'NA'])\n",
    "print(data.shape)\n",
    "#print(macro.shape)"
   ]
  },
  {
   "cell_type": "code",
   "execution_count": 4,
   "metadata": {},
   "outputs": [],
   "source": [
    "y = data['price_doc']\n",
    "data.drop(['price_doc'], axis=1, inplace=True);"
   ]
  },
  {
   "cell_type": "code",
   "execution_count": 5,
   "metadata": {
    "scrolled": true
   },
   "outputs": [],
   "source": [
    "#data = pd.merge(data, macro, on='timestamp')\n",
    "#data.shape"
   ]
  },
  {
   "cell_type": "code",
   "execution_count": 6,
   "metadata": {},
   "outputs": [],
   "source": [
    "t = pd.to_datetime(data['timestamp'])\n",
    "t = t.apply(lambda x: x.timestamp())\n",
    "t = pd.Series(t.values)\n",
    "data['timestamp'] = t"
   ]
  },
  {
   "cell_type": "code",
   "execution_count": 7,
   "metadata": {
    "scrolled": true
   },
   "outputs": [],
   "source": [
    "categorical_columns = [\n",
    "    c for c in data.columns if data[c].dtype.name == 'object'\n",
    "]\n",
    "numerical_columns = [c for c in data.columns if data[c].dtype.name != 'object']"
   ]
  },
  {
   "cell_type": "code",
   "execution_count": 8,
   "metadata": {},
   "outputs": [],
   "source": [
    "data = data.fillna(data.median(axis=0), axis=0)"
   ]
  },
  {
   "cell_type": "code",
   "execution_count": 9,
   "metadata": {},
   "outputs": [],
   "source": [
    "data_describe = data.describe(include=[object])\n",
    "for c in categorical_columns:\n",
    "    data[c] = data[c].fillna(data_describe[c]['top'])"
   ]
  },
  {
   "cell_type": "code",
   "execution_count": 10,
   "metadata": {},
   "outputs": [
    {
     "name": "stdout",
     "output_type": "stream",
     "text": [
      "['product_type', 'culture_objects_top_25', 'thermal_power_plant_raion', 'incineration_raion', 'oil_chemistry_raion', 'radiation_raion', 'railroad_terminal_raion', 'big_market_raion', 'nuclear_reactor_raion', 'detention_facility_raion', 'water_1line', 'big_road1_1line', 'railroad_1line'] ['sub_area', 'ecology']\n"
     ]
    }
   ],
   "source": [
    "binary_columns = [\n",
    "    c for c in categorical_columns if data_describe[c]['unique'] == 2\n",
    "]\n",
    "nonbinary_columns = [\n",
    "    c for c in categorical_columns if data_describe[c]['unique'] > 2\n",
    "]\n",
    "print(binary_columns, nonbinary_columns)"
   ]
  },
  {
   "cell_type": "code",
   "execution_count": 11,
   "metadata": {},
   "outputs": [],
   "source": [
    "for c in binary_columns:\n",
    "    top = data_describe[c]['top']\n",
    "    top_items = data[c] == top\n",
    "    data.loc[top_items, c] = 0\n",
    "    data.loc[np.logical_not(top_items), c] = 1"
   ]
  },
  {
   "cell_type": "code",
   "execution_count": 12,
   "metadata": {},
   "outputs": [
    {
     "name": "stdout",
     "output_type": "stream",
     "text": [
      "Index(['sub_area_Ajeroport', 'sub_area_Akademicheskoe',\n",
      "       'sub_area_Alekseevskoe', 'sub_area_Altuf'evskoe', 'sub_area_Arbat',\n",
      "       'sub_area_Babushkinskoe', 'sub_area_Basmannoe', 'sub_area_Begovoe',\n",
      "       'sub_area_Beskudnikovskoe', 'sub_area_Bibirevo',\n",
      "       ...\n",
      "       'sub_area_Vostochnoe Izmajlovo', 'sub_area_Vyhino-Zhulebino',\n",
      "       'sub_area_Zamoskvorech'e', 'sub_area_Zapadnoe Degunino',\n",
      "       'sub_area_Zjablikovo', 'sub_area_Zjuzino', 'ecology_excellent',\n",
      "       'ecology_good', 'ecology_poor', 'ecology_satisfactory'],\n",
      "      dtype='object', length=150)\n"
     ]
    }
   ],
   "source": [
    "data_nonbinary = pd.get_dummies(data[nonbinary_columns])\n",
    "print(data_nonbinary.columns)"
   ]
  },
  {
   "cell_type": "code",
   "execution_count": 13,
   "metadata": {},
   "outputs": [],
   "source": [
    "data_numerical = data[numerical_columns]\n",
    "data_numerical = (\n",
    "    data_numerical - data_numerical.mean()) / data_numerical.std()"
   ]
  },
  {
   "cell_type": "code",
   "execution_count": 14,
   "metadata": {},
   "outputs": [
    {
     "name": "stdout",
     "output_type": "stream",
     "text": [
      "(30471, 438)\n"
     ]
    }
   ],
   "source": [
    "data = pd.concat((data_numerical, data[binary_columns], data_nonbinary),\n",
    "                 axis=1)\n",
    "data = pd.DataFrame(data)\n",
    "print(data.shape)"
   ]
  },
  {
   "cell_type": "code",
   "execution_count": 15,
   "metadata": {},
   "outputs": [
    {
     "name": "stdout",
     "output_type": "stream",
     "text": [
      "(30471, 438)\n",
      "(30471,)\n"
     ]
    }
   ],
   "source": [
    "print(data.shape)\n",
    "print(y.shape)\n",
    "N, d = data.shape\n",
    "feature_names = data.columns"
   ]
  },
  {
   "cell_type": "code",
   "execution_count": 16,
   "metadata": {},
   "outputs": [
    {
     "name": "stdout",
     "output_type": "stream",
     "text": [
      "22853 7618\n",
      "(22853,) (7618,)\n"
     ]
    }
   ],
   "source": [
    "X_train, X_test, y_train, y_test = train_test_split(\n",
    "    data, y, test_size=0.25, random_state=11)\n",
    "\n",
    "N_train, _ = X_train.shape\n",
    "N_test, _ = X_test.shape\n",
    "print(N_train, N_test)\n",
    "print(y_train.shape, y_test.shape)"
   ]
  },
  {
   "cell_type": "code",
   "execution_count": 17,
   "metadata": {},
   "outputs": [
    {
     "name": "stdout",
     "output_type": "stream",
     "text": [
      "mean squared error: 6694187751663.89\n",
      "score: 0.7073254179900816\n"
     ]
    }
   ],
   "source": [
    "gbt = ensemble.GradientBoostingRegressor(n_estimators=100, random_state=11)\n",
    "gbt.fit(X_train, y_train)\n",
    "Y_pred = gbt.predict(X_test)\n",
    "print(\"mean squared error:\", (mse(y_test, Y_pred)))\n",
    "print(\"score:\", gbt.score(X_test, y_test))"
   ]
  },
  {
   "cell_type": "code",
   "execution_count": 18,
   "metadata": {},
   "outputs": [
    {
     "name": "stdout",
     "output_type": "stream",
     "text": [
      "Feature importances:\n",
      "1. feature 'full_sq' (0.27638346209175885)\n",
      "2. feature 'timestamp' (0.03867299919421718)\n",
      "3. feature 'floor' (0.036197137729180345)\n",
      "4. feature 'state' (0.023226618012127873)\n",
      "5. feature 'build_year' (0.019200324777824615)\n",
      "6. feature 'max_floor' (0.018913088417289302)\n",
      "7. feature 'ttk_km' (0.018096622730323947)\n",
      "8. feature 'num_room' (0.01801165554831569)\n",
      "9. feature 'water_km' (0.017522881848065303)\n",
      "10. feature 'railroad_km' (0.017008699442564074)\n",
      "11. feature 'kitch_sq' (0.01336553223758441)\n",
      "12. feature 'life_sq' (0.013062641878651473)\n",
      "13. feature 'indust_part' (0.012420177123607426)\n",
      "14. feature 'hospital_beds_raion' (0.012202533150981347)\n",
      "15. feature 'product_type' (0.011552568928971118)\n",
      "16. feature 'cafe_count_5000_price_4000' (0.011480837414340566)\n",
      "17. feature 'green_part_1000' (0.009433855961702941)\n",
      "18. feature 'cemetery_km' (0.009407318176732191)\n",
      "19. feature 'cafe_count_5000_price_2500' (0.00879744792110876)\n",
      "20. feature 'cafe_count_3000' (0.008688529552343296)\n",
      "21. feature 'sub_area_Prospekt Vernadskogo' (0.008535528813581581)\n",
      "22. feature 'cafe_count_500_price_1500' (0.008375391193621318)\n",
      "23. feature 'cafe_count_2000' (0.008327457165033367)\n",
      "24. feature 'cafe_count_2000_price_2500' (0.008153260310132106)\n",
      "25. feature 'sadovoe_km' (0.007972477457441356)\n",
      "26. feature 'cafe_count_1000_price_high' (0.00757969711360317)\n",
      "27. feature 'public_healthcare_km' (0.007051671326910489)\n",
      "28. feature 'school_education_centers_raion' (0.006998749170213468)\n",
      "29. feature 'trc_sqm_3000' (0.0069067498939393915)\n",
      "30. feature 'swim_pool_km' (0.006824908337911958)\n",
      "31. feature 'mkad_km' (0.006775707341920425)\n",
      "32. feature 'thermal_power_plant_km' (0.00661218115557327)\n",
      "33. feature 'industrial_km' (0.006563375781506855)\n",
      "34. feature 'trc_count_1500' (0.006470428775378848)\n",
      "35. feature 'metro_min_avto' (0.006377558609459509)\n",
      "36. feature 'theater_km' (0.006041115251837206)\n",
      "37. feature 'ID_big_road2' (0.006020270342907114)\n",
      "38. feature 'cafe_count_1000_na_price' (0.005953636930322625)\n",
      "39. feature 'cafe_count_1500_price_500' (0.005893853167107398)\n",
      "40. feature 'cafe_count_1000_price_2500' (0.00567366890497784)\n",
      "41. feature 'bulvar_ring_km' (0.0054190921791653305)\n",
      "42. feature 'cafe_count_5000_price_high' (0.005287953601671688)\n",
      "43. feature 'cafe_count_2000_price_1000' (0.005118387198721806)\n",
      "44. feature 'office_count_1000' (0.005036323101508824)\n",
      "45. feature 'exhibition_km' (0.004914241665420318)\n",
      "46. feature 'sport_count_2000' (0.004891613682067841)\n",
      "47. feature 'cafe_avg_price_2000' (0.004886936603685798)\n",
      "48. feature 'sport_count_5000' (0.004871944181989102)\n",
      "49. feature 'sub_area_Pokrovskoe Streshnevo' (0.0048555722245760624)\n",
      "50. feature 'trc_sqm_5000' (0.004800965224831734)\n",
      "51. feature 'sub_area_Jakimanka' (0.004797913427996148)\n",
      "52. feature 'big_church_km' (0.004735886156683903)\n",
      "53. feature 'prom_part_1500' (0.004593010343044111)\n",
      "54. feature 'ts_km' (0.0045896952695711766)\n",
      "55. feature 'workplaces_km' (0.0045437237131243525)\n",
      "56. feature 'office_sqm_3000' (0.004139972779633549)\n",
      "57. feature 'bus_terminal_avto_km' (0.004085026996423163)\n",
      "58. feature 'nuclear_reactor_km' (0.004048310381106956)\n",
      "59. feature 'sport_count_3000' (0.0039882876734231255)\n",
      "60. feature 'metro_km_avto' (0.003984240196944827)\n",
      "61. feature 'trc_count_3000' (0.003972843133369034)\n",
      "62. feature 'cafe_count_1000_price_1500' (0.003960860277524652)\n",
      "63. feature 'power_transmission_line_km' (0.0038295925056557696)\n",
      "64. feature 'university_km' (0.003814241774618151)\n",
      "65. feature 'cafe_sum_5000_min_price_avg' (0.003570118258747372)\n",
      "66. feature 'prom_part_5000' (0.003500414681825005)\n",
      "67. feature 'prom_part_1000' (0.003448124243583737)\n",
      "68. feature 'green_part_3000' (0.003409148005103032)\n",
      "69. feature 'oil_chemistry_km' (0.0032629526704710554)\n",
      "70. feature 'green_part_1500' (0.0030704829251072103)\n",
      "71. feature 'office_sqm_5000' (0.003059068350265521)\n",
      "72. feature '16_29_female' (0.0030288740166768287)\n",
      "73. feature 'railroad_station_avto_km' (0.002902421654838739)\n",
      "74. feature 'market_count_1000' (0.0028761242662475846)\n",
      "75. feature 'cafe_count_3000_price_2500' (0.0028339358085026837)\n",
      "76. feature 'leisure_count_3000' (0.0028196894718024823)\n",
      "77. feature 'build_count_wood' (0.0027949863234342405)\n",
      "78. feature 'park_km' (0.0027508240906943203)\n",
      "79. feature 'office_sqm_2000' (0.0027492478290985158)\n",
      "80. feature 'green_zone_km' (0.0026120194164806244)\n",
      "81. feature 'sub_area_Teplyj Stan' (0.0025884650421349807)\n",
      "82. feature 'cafe_count_5000_price_1000' (0.0025352133122418384)\n",
      "83. feature 'preschool_km' (0.0024682184271614636)\n",
      "84. feature 'cafe_count_1500_price_2500' (0.0024379698952649172)\n",
      "85. feature 'mosque_km' (0.0023608758644571106)\n",
      "86. feature 'office_sqm_500' (0.0023573593363604385)\n",
      "87. feature 'cafe_count_1500_price_1000' (0.002342461631842239)\n",
      "88. feature 'culture_objects_top_25_raion' (0.0023370449726687055)\n",
      "89. feature 'big_road1_1line' (0.0022781803629532502)\n",
      "90. feature 'fitness_km' (0.0022497944868561373)\n",
      "91. feature 'cafe_count_500_na_price' (0.0022162928678351322)\n",
      "92. feature 'zd_vokzaly_avto_km' (0.0022099091747742284)\n",
      "93. feature 'leisure_count_500' (0.0020995071865516444)\n",
      "94. feature 'green_part_2000' (0.002045820126663346)\n",
      "95. feature 'sub_area_Hamovniki' (0.002042038033125615)\n",
      "96. feature 'build_count_monolith' (0.0020386471763507484)\n",
      "97. feature 'material' (0.0020238120993170904)\n",
      "98. feature 'cafe_count_3000_price_1500' (0.001938157447908578)\n",
      "99. feature 'cafe_count_1500_price_1500' (0.001924116858250742)\n",
      "100. feature 'trc_count_2000' (0.0019232932955223004)\n",
      "101. feature 'green_part_500' (0.0018979185187265942)\n",
      "102. feature 'preschool_quota' (0.0018447244858353007)\n",
      "103. feature 'cafe_count_1500_price_high' (0.0018245248657180605)\n",
      "104. feature '16_29_all' (0.001802320494952105)\n",
      "105. feature 'cafe_count_500_price_2500' (0.0017983155514326673)\n",
      "106. feature 'market_count_1500' (0.0017671135208384002)\n",
      "107. feature 'cafe_count_5000' (0.0017525396399772325)\n",
      "108. feature 'sub_area_Poselenie Vnukovskoe' (0.001649539529434352)\n",
      "109. feature 'cafe_count_500_price_500' (0.00162226207080799)\n",
      "110. feature 'green_zone_part' (0.0016216384505793387)\n",
      "111. feature 'sub_area_Presnenskoe' (0.001553855292856282)\n",
      "112. feature '7_14_all' (0.0014864726905437365)\n",
      "113. feature 'school_km' (0.0014672113578843935)\n",
      "114. feature 'cafe_count_5000_na_price' (0.001450621486484077)\n",
      "115. feature 'office_count_3000' (0.0014357284336894533)\n",
      "116. feature 'ID_railroad_station_avto' (0.0013981723096028397)\n",
      "117. feature 'build_count_after_1995' (0.001359620259448151)\n",
      "118. feature 'church_count_2000' (0.0013490146253587515)\n",
      "119. feature 'full_all' (0.001309981056869505)\n",
      "120. feature 'radiation_km' (0.001297908134916398)\n",
      "121. feature 'office_count_2000' (0.0012592569388712152)\n",
      "122. feature 'market_count_3000' (0.0012512387401720049)\n",
      "123. feature 'cafe_avg_price_1000' (0.0012369744724131592)\n",
      "124. feature 'prom_part_3000' (0.001207239964711853)\n",
      "125. feature 'office_sqm_1500' (0.0012002396557477377)\n",
      "126. feature 'sub_area_Shhukino' (0.0011994277746278364)\n",
      "127. feature 'sub_area_Dorogomilovo' (0.001143096282214728)\n",
      "128. feature 'church_count_3000' (0.0011407762752580065)\n",
      "129. feature 'additional_education_km' (0.0011268823239300192)\n",
      "130. feature 'leisure_count_1500' (0.0010685666985952036)\n",
      "131. feature 'ecology_satisfactory' (0.001067213915647547)\n",
      "132. feature 'trc_sqm_2000' (0.0010296747302813729)\n",
      "133. feature 'trc_count_1000' (0.0009727958486589954)\n",
      "134. feature 'cafe_count_2000_price_4000' (0.0009668341745358195)\n",
      "135. feature 'female_f' (0.0009295447848145664)\n",
      "136. feature 'cafe_count_5000_price_1500' (0.0008913008771963554)\n",
      "137. feature 'cafe_sum_5000_max_price_avg' (0.0008877538827098023)\n",
      "138. feature 'basketball_km' (0.0008844000186301277)\n",
      "139. feature 'work_female' (0.0008568012571111207)\n",
      "140. feature 'ice_rink_km' (0.0008328458007092026)\n",
      "141. feature 'green_part_5000' (0.0008065522868487179)\n",
      "142. feature 'cafe_count_2000_price_500' (0.0007653452233980794)\n",
      "143. feature 'ekder_all' (0.0007640670722303309)\n",
      "144. feature 'detention_facility_km' (0.0007428650469181058)\n",
      "145. feature 'hospice_morgue_km' (0.000740620609889219)\n",
      "146. feature 'build_count_brick' (0.0007280197221862888)\n",
      "147. feature '16_29_male' (0.000724896003822663)\n",
      "148. feature 'big_road1_km' (0.0007064366605615695)\n",
      "149. feature 'cafe_sum_2000_min_price_avg' (0.0006580449794583816)\n",
      "150. feature 'kindergarten_km' (0.0005799339799808721)\n",
      "151. feature 'cafe_count_2000_na_price' (0.0005735595993035255)\n",
      "152. feature 'cafe_count_1000_price_4000' (0.0005658034920173776)\n",
      "153. feature 'sub_area_Krylatskoe' (0.0005206646994788815)\n",
      "154. feature 'sub_area_Ramenki' (0.00046787620877020305)\n",
      "155. feature 'office_km' (0.000457940275543881)\n",
      "156. feature 'cafe_count_3000_price_500' (0.0004094530770453571)\n",
      "157. feature 'cafe_avg_price_3000' (0.00039836474112981535)\n",
      "158. feature 'prom_part_500' (0.0003636565640858562)\n",
      "159. feature 'mosque_count_5000' (0.00034035441180698284)\n",
      "160. feature 'metro_min_walk' (0.0002702456099642315)\n",
      "161. feature 'market_shop_km' (0.00022091702010180471)\n",
      "162. feature 'ID_metro' (0.00017232634412071832)\n",
      "163. feature 'university_top_20_raion' (0.00014767762306791405)\n",
      "164. feature 'market_count_500' (7.168470529977561e-06)\n",
      "165. feature 'sub_area_Staroe Krjukovo' (0.0)\n",
      "166. feature 'catering_km' (0.0)\n",
      "167. feature 'sub_area_Troickij okrug' (0.0)\n",
      "168. feature 'sub_area_Troparevo-Nikulino' (0.0)\n",
      "169. feature 'public_transport_station_min_walk' (0.0)\n",
      "170. feature 'sub_area_Sokolinaja Gora' (0.0)\n",
      "171. feature 'museum_km' (0.0)\n",
      "172. feature 'sub_area_Nagatinskij Zaton' (0.0)\n",
      "173. feature 'public_transport_station_km' (0.0)\n",
      "174. feature 'sub_area_Poselenie Filimonkovskoe' (0.0)\n",
      "175. feature 'railroad_station_avto_min' (0.0)\n",
      "176. feature 'sub_area_Poselenie Kievskij' (0.0)\n",
      "177. feature 'ID_railroad_station_walk' (0.0)\n",
      "178. feature 'railroad_station_walk_min' (0.0)\n",
      "179. feature 'sub_area_Poselenie Desjonovskoe' (0.0)\n",
      "180. feature 'railroad_station_walk_km' (0.0)\n",
      "181. feature 'incineration_km' (0.0)\n",
      "182. feature 'sub_area_Tverskoe' (0.0)\n",
      "183. feature 'sub_area_Nagatino-Sadovniki' (0.0)\n",
      "184. feature 'water_treatment_km' (0.0)\n",
      "185. feature 'office_count_500' (0.0)\n",
      "186. feature 'sub_area_Veshnjaki' (0.0)\n",
      "187. feature 'sub_area_Mozhajskoe' (0.0)\n",
      "188. feature 'sub_area_Poselenie Klenovskoe' (0.0)\n",
      "189. feature 'trc_count_500' (0.0)\n",
      "190. feature 'trc_sqm_500' (0.0)\n",
      "191. feature 'sub_area_Timirjazevskoe' (0.0)\n",
      "192. feature 'kremlin_km' (0.0)\n",
      "193. feature 'sub_area_Tekstil'shhiki' (0.0)\n",
      "194. feature 'sub_area_Ostankinskoe' (0.0)\n",
      "195. feature 'sub_area_Obruchevskoe' (0.0)\n",
      "196. feature 'sub_area_Solncevo' (0.0)\n",
      "197. feature 'big_market_km' (0.0)\n",
      "198. feature 'sub_area_Ochakovo-Matveevskoe' (0.0)\n",
      "199. feature 'sub_area_Novokosino' (0.0)\n",
      "200. feature 'sub_area_Strogino' (0.0)\n",
      "201. feature 'sub_area_Novogireevo' (0.0)\n",
      "202. feature 'shopping_centers_km' (0.0)\n",
      "203. feature 'sub_area_Novo-Peredelkino' (0.0)\n",
      "204. feature 'sub_area_Orehovo-Borisovo Juzhnoe' (0.0)\n",
      "205. feature 'sub_area_Nizhegorodskoe' (0.0)\n",
      "206. feature 'sub_area_Nekrasovka' (0.0)\n",
      "207. feature 'stadium_km' (0.0)\n",
      "208. feature 'sub_area_Otradnoe' (0.0)\n",
      "209. feature 'ID_bus_terminal' (0.0)\n",
      "210. feature 'sub_area_Pechatniki' (0.0)\n",
      "211. feature 'ID_railroad_terminal' (0.0)\n",
      "212. feature 'sub_area_Perovo' (0.0)\n",
      "213. feature 'sub_area_Sviblovo' (0.0)\n",
      "214. feature 'sub_area_Taganskoe' (0.0)\n",
      "215. feature 'big_road2_km' (0.0)\n",
      "216. feature 'ID_big_road1' (0.0)\n",
      "217. feature 'church_synagogue_km' (0.0)\n",
      "218. feature 'sub_area_Nagornoe' (0.0)\n",
      "219. feature 'sub_area_Orehovo-Borisovo Severnoe' (0.0)\n",
      "220. feature 'sub_area_Chertanovo Juzhnoe' (0.0)\n",
      "221. feature 'sub_area_Poselenie Kokoshkino' (0.0)\n",
      "222. feature 'sub_area_Poselenie Krasnopahorskoe' (0.0)\n",
      "223. feature 'sub_area_Vostochnoe' (0.0)\n",
      "224. feature 'school_education_centers_top_20_raion' (0.0)\n",
      "225. feature 'sub_area_Vojkovskoe' (0.0)\n",
      "226. feature 'healthcare_centers_raion' (0.0)\n",
      "227. feature 'sport_objects_raion' (0.0)\n",
      "228. feature 'additional_education_raion' (0.0)\n",
      "229. feature 'sub_area_Poselenie Shhapovskoe' (0.0)\n",
      "230. feature 'shopping_centers_raion' (0.0)\n",
      "231. feature 'office_raion' (0.0)\n",
      "232. feature 'sub_area_Poselenie Rogovskoe' (0.0)\n",
      "233. feature 'male_f' (0.0)\n",
      "234. feature 'young_all' (0.0)\n",
      "235. feature 'young_male' (0.0)\n",
      "236. feature 'young_female' (0.0)\n",
      "237. feature 'work_all' (0.0)\n",
      "238. feature 'school_quota' (0.0)\n",
      "239. feature 'children_school' (0.0)\n",
      "240. feature 'preschool_education_centers_raion' (0.0)\n",
      "241. feature 'sub_area_Zamoskvorech'e' (0.0)\n",
      "242. feature 'ecology_good' (0.0)\n",
      "243. feature 'ecology_excellent' (0.0)\n",
      "244. feature 'sub_area_Zjuzino' (0.0)\n",
      "245. feature 'sub_area_Zjablikovo' (0.0)\n",
      "246. feature 'sub_area_Poselenie Voronovskoe' (0.0)\n",
      "247. feature 'sub_area_Zapadnoe Degunino' (0.0)\n",
      "248. feature 'sub_area_Vyhino-Zhulebino' (0.0)\n",
      "249. feature 'sub_area_Poselenie Shherbinka' (0.0)\n",
      "250. feature 'sub_area_Vostochnoe Izmajlovo' (0.0)\n",
      "251. feature 'area_m' (0.0)\n",
      "252. feature 'raion_popul' (0.0)\n",
      "253. feature 'sub_area_Poselenie Sosenskoe' (0.0)\n",
      "254. feature 'sub_area_Vostochnoe Degunino' (0.0)\n",
      "255. feature 'children_preschool' (0.0)\n",
      "256. feature 'work_male' (0.0)\n",
      "257. feature 'ekder_male' (0.0)\n",
      "258. feature 'ekder_female' (0.0)\n",
      "259. feature 'build_count_1921-1945' (0.0)\n",
      "260. feature 'build_count_panel' (0.0)\n",
      "261. feature 'build_count_foam' (0.0)\n",
      "262. feature 'build_count_slag' (0.0)\n",
      "263. feature 'build_count_mix' (0.0)\n",
      "264. feature 'raion_build_count_with_builddate_info' (0.0)\n",
      "265. feature 'build_count_before_1920' (0.0)\n",
      "266. feature 'build_count_1946-1970' (0.0)\n",
      "267. feature 'build_count_frame' (0.0)\n",
      "268. feature 'build_count_1971-1995' (0.0)\n",
      "269. feature 'sub_area_Poselenie Mihajlovo-Jarcevskoe' (0.0)\n",
      "270. feature 'cafe_sum_500_min_price_avg' (0.0)\n",
      "271. feature 'sub_area_Vnukovo' (0.0)\n",
      "272. feature 'sub_area_Poselenie Marushkinskoe' (0.0)\n",
      "273. feature 'metro_km_walk' (0.0)\n",
      "274. feature 'sub_area_Poselenie Moskovskij' (0.0)\n",
      "275. feature 'sub_area_Poselenie Mosrentgen' (0.0)\n",
      "276. feature '0_6_all' (0.0)\n",
      "277. feature '0_17_male' (0.0)\n",
      "278. feature '0_6_male' (0.0)\n",
      "279. feature '0_6_female' (0.0)\n",
      "280. feature 'sub_area_Poselenie Rjazanovskoe' (0.0)\n",
      "281. feature '7_14_male' (0.0)\n",
      "282. feature '7_14_female' (0.0)\n",
      "283. feature '0_17_all' (0.0)\n",
      "284. feature '0_17_female' (0.0)\n",
      "285. feature 'build_count_block' (0.0)\n",
      "286. feature 'sub_area_Poselenie Pervomajskoe' (0.0)\n",
      "287. feature 'sub_area_Poselenie Novofedorovskoe' (0.0)\n",
      "288. feature '0_13_all' (0.0)\n",
      "289. feature '0_13_male' (0.0)\n",
      "290. feature '0_13_female' (0.0)\n",
      "291. feature 'raion_build_count_with_material_info' (0.0)\n",
      "292. feature 'cafe_count_500' (0.0)\n",
      "293. feature 'cafe_count_500_price_high' (0.0)\n",
      "294. feature 'cafe_sum_500_max_price_avg' (0.0)\n",
      "295. feature 'sub_area_Kon'kovo' (0.0)\n",
      "296. feature 'sub_area_Ivanovskoe' (0.0)\n",
      "297. feature 'sub_area_Hovrino' (0.0)\n",
      "298. feature 'sub_area_Horoshevskoe' (0.0)\n",
      "299. feature 'sub_area_Horoshevo-Mnevniki' (0.0)\n",
      "300. feature 'office_count_5000' (0.0)\n",
      "301. feature 'sub_area_Golovinskoe' (0.0)\n",
      "302. feature 'trc_count_5000' (0.0)\n",
      "303. feature 'sub_area_Gol'janovo' (0.0)\n",
      "304. feature 'sub_area_Gagarinskoe' (0.0)\n",
      "305. feature 'sub_area_Fili Davydkovo' (0.0)\n",
      "306. feature 'cafe_avg_price_5000' (0.0)\n",
      "307. feature 'sub_area_Filevskij Park' (0.0)\n",
      "308. feature 'cafe_count_5000_price_500' (0.0)\n",
      "309. feature 'sub_area_Donskoe' (0.0)\n",
      "310. feature 'sub_area_Rostokino' (0.0)\n",
      "311. feature 'mosque_count_3000' (0.0)\n",
      "312. feature 'sub_area_Izmajlovo' (0.0)\n",
      "313. feature 'big_church_count_3000' (0.0)\n",
      "314. feature 'sub_area_Savelki' (0.0)\n",
      "315. feature 'sub_area_Kapotnja' (0.0)\n",
      "316. feature 'sub_area_Juzhnoportovoe' (0.0)\n",
      "317. feature 'sub_area_Juzhnoe Tushino' (0.0)\n",
      "318. feature 'sub_area_Juzhnoe Medvedkovo' (0.0)\n",
      "319. feature 'sub_area_Juzhnoe Butovo' (0.0)\n",
      "320. feature 'sub_area_Savelovskoe' (0.0)\n",
      "321. feature 'cafe_sum_3000_min_price_avg' (0.0)\n",
      "322. feature 'cafe_count_3000_price_high' (0.0)\n",
      "323. feature 'cafe_sum_3000_max_price_avg' (0.0)\n",
      "324. feature 'cafe_count_3000_na_price' (0.0)\n",
      "325. feature 'cafe_count_3000_price_1000' (0.0)\n",
      "326. feature 'sub_area_Jasenevo' (0.0)\n",
      "327. feature 'sub_area_Jaroslavskoe' (0.0)\n",
      "328. feature 'cafe_count_3000_price_4000' (0.0)\n",
      "329. feature 'sub_area_Rjazanskij' (0.0)\n",
      "330. feature 'big_church_count_5000' (0.0)\n",
      "331. feature 'church_count_5000' (0.0)\n",
      "332. feature 'sub_area_Bibirevo' (0.0)\n",
      "333. feature 'sub_area_Altuf'evskoe' (0.0)\n",
      "334. feature 'sub_area_Arbat' (0.0)\n",
      "335. feature 'sub_area_Babushkinskoe' (0.0)\n",
      "336. feature 'sub_area_Basmannoe' (0.0)\n",
      "337. feature 'sub_area_Begovoe' (0.0)\n",
      "338. feature 'sub_area_Beskudnikovskoe' (0.0)\n",
      "339. feature 'sub_area_Birjulevo Vostochnoe' (0.0)\n",
      "340. feature 'sub_area_Akademicheskoe' (0.0)\n",
      "341. feature 'sub_area_Birjulevo Zapadnoe' (0.0)\n",
      "342. feature 'sub_area_Bogorodskoe' (0.0)\n",
      "343. feature 'sub_area_Brateevo' (0.0)\n",
      "344. feature 'sub_area_Butyrskoe' (0.0)\n",
      "345. feature 'sub_area_Caricyno' (0.0)\n",
      "346. feature 'sub_area_Cheremushki' (0.0)\n",
      "347. feature 'sub_area_Alekseevskoe' (0.0)\n",
      "348. feature 'sub_area_Ajeroport' (0.0)\n",
      "349. feature 'leisure_count_5000' (0.0)\n",
      "350. feature 'oil_chemistry_raion' (0.0)\n",
      "351. feature 'sub_area_Dmitrovskoe' (0.0)\n",
      "352. feature 'market_count_5000' (0.0)\n",
      "353. feature 'sub_area_Danilovskoe' (0.0)\n",
      "354. feature 'culture_objects_top_25' (0.0)\n",
      "355. feature 'thermal_power_plant_raion' (0.0)\n",
      "356. feature 'incineration_raion' (0.0)\n",
      "357. feature 'radiation_raion' (0.0)\n",
      "358. feature 'railroad_1line' (0.0)\n",
      "359. feature 'railroad_terminal_raion' (0.0)\n",
      "360. feature 'big_market_raion' (0.0)\n",
      "361. feature 'nuclear_reactor_raion' (0.0)\n",
      "362. feature 'detention_facility_raion' (0.0)\n",
      "363. feature 'water_1line' (0.0)\n",
      "364. feature 'sub_area_Chertanovo Severnoe' (0.0)\n",
      "365. feature 'market_count_2000' (0.0)\n",
      "366. feature 'leisure_count_2000' (0.0)\n",
      "367. feature 'cafe_avg_price_500' (0.0)\n",
      "368. feature 'mosque_count_2000' (0.0)\n",
      "369. feature 'cafe_sum_1000_min_price_avg' (0.0)\n",
      "370. feature 'cafe_sum_1000_max_price_avg' (0.0)\n",
      "371. feature 'sub_area_Marfino' (0.0)\n",
      "372. feature 'sub_area_Silino' (0.0)\n",
      "373. feature 'cafe_count_1000_price_500' (0.0)\n",
      "374. feature 'cafe_count_1000_price_1000' (0.0)\n",
      "375. feature 'sub_area_Mar'ino' (0.0)\n",
      "376. feature 'sub_area_Mar'ina Roshha' (0.0)\n",
      "377. feature 'sub_area_Severnoe Tushino' (0.0)\n",
      "378. feature 'big_church_count_1000' (0.0)\n",
      "379. feature 'church_count_1000' (0.0)\n",
      "380. feature 'mosque_count_1000' (0.0)\n",
      "381. feature 'leisure_count_1000' (0.0)\n",
      "382. feature 'sport_count_1000' (0.0)\n",
      "383. feature 'sub_area_Losinoostrovskoe' (0.0)\n",
      "384. feature 'cafe_count_1000' (0.0)\n",
      "385. feature 'trc_sqm_1000' (0.0)\n",
      "386. feature 'office_sqm_1000' (0.0)\n",
      "387. feature 'sub_area_Chertanovo Central'noe' (0.0)\n",
      "388. feature 'sub_area_Moskvorech'e-Saburovo' (0.0)\n",
      "389. feature 'sub_area_Molzhaninovskoe' (0.0)\n",
      "390. feature 'cafe_count_500_price_1000' (0.0)\n",
      "391. feature 'sub_area_Sokol'niki' (0.0)\n",
      "392. feature 'sub_area_Mitino' (0.0)\n",
      "393. feature 'cafe_count_500_price_4000' (0.0)\n",
      "394. feature 'big_church_count_500' (0.0)\n",
      "395. feature 'sub_area_Matushkino' (0.0)\n",
      "396. feature 'church_count_500' (0.0)\n",
      "397. feature 'mosque_count_500' (0.0)\n",
      "398. feature 'sub_area_Metrogorodok' (0.0)\n",
      "399. feature 'sport_count_500' (0.0)\n",
      "400. feature 'sub_area_Sokol' (0.0)\n",
      "401. feature 'sub_area_Meshhanskoe' (0.0)\n",
      "402. feature 'sub_area_Lomonosovskoe' (0.0)\n",
      "403. feature 'sub_area_Ljublino' (0.0)\n",
      "404. feature 'office_count_1500' (0.0)\n",
      "405. feature 'cafe_sum_2000_max_price_avg' (0.0)\n",
      "406. feature 'sub_area_Kuncevo' (0.0)\n",
      "407. feature 'prom_part_2000' (0.0)\n",
      "408. feature 'sub_area_Krjukovo' (0.0)\n",
      "409. feature 'sub_area_Krasnosel'skoe' (0.0)\n",
      "410. feature 'sub_area_Kotlovka' (0.0)\n",
      "411. feature 'sub_area_Severnoe Butovo' (0.0)\n",
      "412. feature 'sub_area_Kosino-Uhtomskoe' (0.0)\n",
      "413. feature 'sub_area_Kurkino' (0.0)\n",
      "414. feature 'ecology_poor' (0.0)\n",
      "415. feature 'cafe_count_2000_price_1500' (0.0)\n",
      "416. feature 'sub_area_Severnoe' (0.0)\n",
      "417. feature 'cafe_count_2000_price_high' (0.0)\n",
      "418. feature 'big_church_count_2000' (0.0)\n",
      "419. feature 'sub_area_Koptevo' (0.0)\n",
      "420. feature 'sport_count_1500' (0.0)\n",
      "421. feature 'mosque_count_1500' (0.0)\n",
      "422. feature 'sub_area_Lianozovo' (0.0)\n",
      "423. feature 'cafe_count_1500_na_price' (0.0)\n",
      "424. feature 'sub_area_Severnoe Medvedkovo' (0.0)\n",
      "425. feature 'trc_sqm_1500' (0.0)\n",
      "426. feature 'cafe_count_1500' (0.0)\n",
      "427. feature 'cafe_sum_1500_min_price_avg' (0.0)\n",
      "428. feature 'cafe_sum_1500_max_price_avg' (0.0)\n",
      "429. feature 'cafe_avg_price_1500' (0.0)\n",
      "430. feature 'sub_area_Severnoe Izmajlovo' (0.0)\n",
      "431. feature 'church_count_1500' (0.0)\n",
      "432. feature 'sub_area_Levoberezhnoe' (0.0)\n",
      "433. feature 'sub_area_Lefortovo' (0.0)\n",
      "434. feature 'sub_area_Poselenie Voskresenskoe' (0.0)\n",
      "435. feature 'cafe_count_1500_price_4000' (0.0)\n",
      "436. feature 'sub_area_Kuz'minki' (0.0)\n",
      "437. feature 'big_church_count_1500' (0.0)\n",
      "438. feature 'sub_area_Preobrazhenskoe' (0.0)\n"
     ]
    }
   ],
   "source": [
    "importances = gbt.feature_importances_\n",
    "indices = np.argsort(importances)[::-1]\n",
    "\n",
    "print(\"Feature importances:\")\n",
    "for f, idx in enumerate(indices):\n",
    "    print(\"{}. feature '{}' ({})\".format(f + 1, feature_names[idx],\n",
    "                                         importances[idx]))"
   ]
  },
  {
   "cell_type": "code",
   "execution_count": 19,
   "metadata": {},
   "outputs": [
    {
     "data": {
      "text/plain": [
       "(-1, 100)"
      ]
     },
     "execution_count": 19,
     "metadata": {},
     "output_type": "execute_result"
    },
    {
     "data": {
      "image/png": "[encoded data removed]",
      "text/plain": [
       "<Figure size 1440x1440 with 1 Axes>"
      ]
     },
     "metadata": {
      "needs_background": "light"
     },
     "output_type": "display_data"
    }
   ],
   "source": [
    "d_first = 100\n",
    "plt.figure(figsize=(20, 20))\n",
    "plt.title(\"Feature importances\")\n",
    "plt.bar(range(d_first), importances[indices[:d_first]], align='center')\n",
    "plt.xticks(\n",
    "    range(d_first), np.array(feature_names)[indices[:d_first]], rotation=90)\n",
    "plt.xlim([-1, d_first])"
   ]
  },
  {
   "cell_type": "code",
   "execution_count": 20,
   "metadata": {},
   "outputs": [
    {
     "name": "stdout",
     "output_type": "stream",
     "text": [
      "Index(['full_sq', 'timestamp', 'floor', 'state', 'build_year', 'max_floor',\n",
      "       'ttk_km', 'num_room', 'water_km', 'railroad_km',\n",
      "       ...\n",
      "       'office_km', 'cafe_count_3000_price_500', 'cafe_avg_price_3000',\n",
      "       'prom_part_500', 'mosque_count_5000', 'metro_min_walk',\n",
      "       'market_shop_km', 'ID_metro', 'university_top_20_raion',\n",
      "       'market_count_500'],\n",
      "      dtype='object', length=164)\n"
     ]
    }
   ],
   "source": [
    "best_features = indices[:164]\n",
    "best_features_names = feature_names[best_features]\n",
    "print(best_features_names)"
   ]
  },
  {
   "cell_type": "code",
   "execution_count": 21,
   "metadata": {},
   "outputs": [
    {
     "name": "stdout",
     "output_type": "stream",
     "text": [
      "mean squared error: 6723496565077.728\n",
      "score: 0.7060440161182907\n"
     ]
    }
   ],
   "source": [
    "gbt = ensemble.GradientBoostingRegressor(n_estimators=100, random_state=11)\n",
    "gbt.fit(X_train[best_features_names], y_train)\n",
    "Y_pred = gbt.predict(X_test[best_features_names])\n",
    "print(\"mean squared error:\", (mse(y_test, Y_pred)))\n",
    "print(\"score:\", gbt.score(X_test[best_features_names], y_test))"
   ]
  },
  {
   "cell_type": "code",
   "execution_count": null,
   "metadata": {},
   "outputs": [],
   "source": []
  }
 ],
 "metadata": {
  "kernelspec": {
   "display_name": "Python 3",
   "language": "python",
   "name": "python3"
  },
  "language_info": {
   "codemirror_mode": {
    "name": "ipython",
    "version": 3
   },
   "file_extension": ".py",
   "mimetype": "text/x-python",
   "name": "python",
   "nbconvert_exporter": "python",
   "pygments_lexer": "ipython3",
   "version": "3.7.0"
  }
 },
 "nbformat": 4,
 "nbformat_minor": 2
}
